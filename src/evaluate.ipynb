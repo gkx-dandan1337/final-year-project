{
 "cells": [
  {
   "cell_type": "code",
   "execution_count": 1,
   "id": "f8af61a7",
   "metadata": {},
   "outputs": [
    {
     "ename": "ModuleNotFoundError",
     "evalue": "No module named 'torch'",
     "output_type": "error",
     "traceback": [
      "\u001b[1;31m---------------------------------------------------------------------------\u001b[0m",
      "\u001b[1;31mModuleNotFoundError\u001b[0m                       Traceback (most recent call last)",
      "\u001b[1;32m~\\AppData\\Local\\Temp\\ipykernel_24384\\1279115189.py\u001b[0m in \u001b[0;36m<module>\u001b[1;34m\u001b[0m\n\u001b[0;32m      1\u001b[0m \u001b[1;31m# Baseline Evaluation for Pneumonia Detection\u001b[0m\u001b[1;33m\u001b[0m\u001b[1;33m\u001b[0m\u001b[0m\n\u001b[1;32m----> 2\u001b[1;33m \u001b[1;32mimport\u001b[0m \u001b[0mtorch\u001b[0m\u001b[1;33m\u001b[0m\u001b[1;33m\u001b[0m\u001b[0m\n\u001b[0m\u001b[0;32m      3\u001b[0m \u001b[1;32mimport\u001b[0m \u001b[0mtorch\u001b[0m\u001b[1;33m.\u001b[0m\u001b[0mnn\u001b[0m \u001b[1;32mas\u001b[0m \u001b[0mnn\u001b[0m\u001b[1;33m\u001b[0m\u001b[1;33m\u001b[0m\u001b[0m\n\u001b[0;32m      4\u001b[0m \u001b[1;32mimport\u001b[0m \u001b[0mnumpy\u001b[0m \u001b[1;32mas\u001b[0m \u001b[0mnp\u001b[0m\u001b[1;33m\u001b[0m\u001b[1;33m\u001b[0m\u001b[0m\n\u001b[0;32m      5\u001b[0m \u001b[1;32mfrom\u001b[0m \u001b[0mtqdm\u001b[0m \u001b[1;32mimport\u001b[0m \u001b[0mtqdm\u001b[0m\u001b[1;33m\u001b[0m\u001b[1;33m\u001b[0m\u001b[0m\n",
      "\u001b[1;31mModuleNotFoundError\u001b[0m: No module named 'torch'"
     ]
    }
   ],
   "source": [
    "# Baseline Evaluation for Pneumonia Detection\n",
    "import torch\n",
    "import torch.nn as nn\n",
    "import numpy as np\n",
    "from tqdm import tqdm\n",
    "from sklearn.metrics import (\n",
    "    roc_auc_score, average_precision_score, f1_score,\n",
    "    accuracy_score, confusion_matrix, roc_curve, precision_recall_curve\n",
    ")\n",
    "import matplotlib.pyplot as plt\n",
    "import seaborn as sns\n",
    "\n",
    "from dataloader import get_dataloaders\n",
    "from torchvision import models\n",
    "\n",
    "# -----------------------\n",
    "# 1. Load Data\n",
    "# -----------------------\n",
    "_, _, test_loader = get_dataloaders(\n",
    "    img_dir=\"data/images\",\n",
    "    batch_size=32,\n",
    ")\n",
    "\n",
    "# -----------------------\n",
    "# 2. Load Model\n",
    "# -----------------------\n",
    "device = torch.device(\"cuda\" if torch.cuda.is_available() else \"cpu\")\n",
    "\n",
    "model = models.densenet121(weights=None)\n",
    "num_features = model.classifier.in_features\n",
    "model.classifier = nn.Linear(num_features, 14)  # trained with 14 outputs\n",
    "model = model.to(device)\n",
    "\n",
    "model.load_state_dict(torch.load(\"best_model.pth\", map_location=device))\n",
    "model.eval()\n",
    "\n",
    "# Pneumonia index in CheXNet dataset (verify this matches your CSV order)\n",
    "pneumonia_idx = 9  \n",
    "\n",
    "# -----------------------\n",
    "# 3. Run Inference\n",
    "# -----------------------\n",
    "y_true, y_pred = [], []\n",
    "\n",
    "with torch.no_grad():\n",
    "    for images, labels in tqdm(test_loader):\n",
    "        images = images.to(device)\n",
    "        labels = labels.to(device).float()\n",
    "\n",
    "        outputs = model(images)               # [batch, 14]\n",
    "        probs = torch.sigmoid(outputs)        # [batch, 14]\n",
    "\n",
    "        y_true.extend(labels[:, pneumonia_idx].cpu().numpy())\n",
    "        y_pred.extend(probs[:, pneumonia_idx].cpu().numpy())\n",
    "\n",
    "y_true = np.array(y_true)\n",
    "y_pred = np.array(y_pred)\n",
    "y_pred_binary = (y_pred >= 0.5).astype(int)\n",
    "\n",
    "\n",
    "\n",
    "\n",
    "\n",
    "\n"
   ]
  },
  {
   "cell_type": "code",
   "execution_count": null,
   "id": "3a5ed20b",
   "metadata": {},
   "outputs": [],
   "source": [
    "# -----------------------\n",
    "# 4. Metrics\n",
    "# -----------------------\n",
    "auroc = roc_auc_score(y_true, y_pred)\n",
    "auprc = average_precision_score(y_true, y_pred)\n",
    "f1 = f1_score(y_true, y_pred_binary)\n",
    "acc = accuracy_score(y_true, y_pred_binary)\n",
    "cm = confusion_matrix(y_true, y_pred_binary)\n",
    "\n",
    "print(\"=== Baseline Evaluation (Pneumonia) ===\")\n",
    "print(f\"AUROC: {auroc:.4f}\")\n",
    "print(f\"AUPRC: {auprc:.4f}\")\n",
    "print(f\"F1-score: {f1:.4f}\")\n",
    "print(f\"Accuracy: {acc:.4f}\")\n",
    "print(\"Confusion Matrix:\")\n",
    "print(cm)\n"
   ]
  },
  {
   "cell_type": "code",
   "execution_count": null,
   "id": "7d08892d",
   "metadata": {},
   "outputs": [],
   "source": [
    "# -----------------------\n",
    "# 5. ROC Curve\n",
    "# -----------------------\n",
    "fpr, tpr, _ = roc_curve(y_true, y_pred)\n",
    "plt.figure(figsize=(6,6))\n",
    "plt.plot(fpr, tpr, label=f\"AUROC = {auroc:.3f}\")\n",
    "plt.plot([0,1], [0,1], linestyle=\"--\", color=\"gray\")\n",
    "plt.xlabel(\"False Positive Rate\")\n",
    "plt.ylabel(\"True Positive Rate\")\n",
    "plt.title(\"ROC Curve (Pneumonia)\")\n",
    "plt.legend()\n",
    "plt.show()"
   ]
  },
  {
   "cell_type": "code",
   "execution_count": null,
   "id": "77f987d3",
   "metadata": {},
   "outputs": [],
   "source": [
    "# -----------------------\n",
    "# 6. PR Curve\n",
    "# -----------------------\n",
    "prec, rec, _ = precision_recall_curve(y_true, y_pred)\n",
    "plt.figure(figsize=(6,6))\n",
    "plt.plot(rec, prec, label=f\"AUPRC = {auprc:.3f}\")\n",
    "plt.xlabel(\"Recall\")\n",
    "plt.ylabel(\"Precision\")\n",
    "plt.title(\"Precision-Recall Curve (Pneumonia)\")\n",
    "plt.legend()\n",
    "plt.show()"
   ]
  },
  {
   "cell_type": "code",
   "execution_count": null,
   "id": "4880da86",
   "metadata": {},
   "outputs": [],
   "source": [
    "# -----------------------\n",
    "# 7. Confusion Matrix Plot\n",
    "# -----------------------\n",
    "plt.figure(figsize=(4,4))\n",
    "sns.heatmap(cm, annot=True, fmt=\"d\", cmap=\"Blues\",\n",
    "            xticklabels=[\"No Pneumonia\", \"Pneumonia\"],\n",
    "            yticklabels=[\"No Pneumonia\", \"Pneumonia\"])\n",
    "plt.xlabel(\"Predicted\")\n",
    "plt.ylabel(\"True\")\n",
    "plt.title(\"Confusion Matrix (Pneumonia)\")\n",
    "plt.show()\n"
   ]
  }
 ],
 "metadata": {
  "kernelspec": {
   "display_name": "base",
   "language": "python",
   "name": "python3"
  },
  "language_info": {
   "codemirror_mode": {
    "name": "ipython",
    "version": 3
   },
   "file_extension": ".py",
   "mimetype": "text/x-python",
   "name": "python",
   "nbconvert_exporter": "python",
   "pygments_lexer": "ipython3",
   "version": "3.9.13"
  }
 },
 "nbformat": 4,
 "nbformat_minor": 5
}
