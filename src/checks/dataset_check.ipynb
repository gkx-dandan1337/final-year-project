{
 "cells": [
  {
   "cell_type": "code",
   "execution_count": 1,
   "id": "807f9ad0",
   "metadata": {},
   "outputs": [],
   "source": [
    "import pandas as pd \n",
    "import numpy as np \n"
   ]
  },
  {
   "cell_type": "code",
   "execution_count": 5,
   "id": "2d582904",
   "metadata": {},
   "outputs": [],
   "source": [
    "df = pd.read_csv(r\"C:\\Users\\HP\\Desktop\\Final Year Project Final Draft\\final-year-project\\data\\Data_Entry_2017_v2020 (1).csv\")"
   ]
  },
  {
   "cell_type": "code",
   "execution_count": 10,
   "id": "42f3d633",
   "metadata": {},
   "outputs": [
    {
     "name": "stdout",
     "output_type": "stream",
     "text": [
      "['Atelectasis', 'Cardiomegaly', 'Consolidation', 'Edema', 'Effusion', 'Emphysema', 'Fibrosis', 'Hernia', 'Infiltration', 'Mass', 'No Finding', 'Nodule', 'Pleural_Thickening', 'Pneumonia', 'Pneumothorax']\n",
      "Number of unique labels: 15\n"
     ]
    }
   ],
   "source": [
    "# Split labels by \"|\" and flatten into one big list\n",
    "all_labels = df[\"Finding Labels\"].str.split(\"|\").sum()\n",
    "\n",
    "# Get unique labels\n",
    "unique_labels = sorted(set(all_labels))\n",
    "\n",
    "print(unique_labels)\n",
    "print(\"Number of unique labels:\", len(unique_labels))"
   ]
  }
 ],
 "metadata": {
  "kernelspec": {
   "display_name": "base",
   "language": "python",
   "name": "python3"
  },
  "language_info": {
   "codemirror_mode": {
    "name": "ipython",
    "version": 3
   },
   "file_extension": ".py",
   "mimetype": "text/x-python",
   "name": "python",
   "nbconvert_exporter": "python",
   "pygments_lexer": "ipython3",
   "version": "3.9.13"
  }
 },
 "nbformat": 4,
 "nbformat_minor": 5
}
