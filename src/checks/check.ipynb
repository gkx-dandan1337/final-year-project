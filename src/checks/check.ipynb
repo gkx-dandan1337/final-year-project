{
 "cells": [
  {
   "cell_type": "code",
   "execution_count": 13,
   "id": "a51faa13",
   "metadata": {},
   "outputs": [],
   "source": [
    "import pandas as pd \n",
    "import numpy as np\n"
   ]
  },
  {
   "cell_type": "code",
   "execution_count": 18,
   "id": "78dd0e6e",
   "metadata": {},
   "outputs": [],
   "source": [
    "test = pd.read_csv(r\"C:\\Users\\HP\\Desktop\\Final Year Project Final Draft\\final-year-project\\data\\train.csv\")\n"
   ]
  },
  {
   "cell_type": "code",
   "execution_count": null,
   "id": "381b9cc5",
   "metadata": {},
   "outputs": [
    {
     "data": {
      "text/plain": [
       "Patient ID\n",
       "10007    184\n",
       "13670    173\n",
       "15530    158\n",
       "13993    143\n",
       "1836     137\n",
       "        ... \n",
       "30778      1\n",
       "30779      1\n",
       "30780      1\n",
       "30781      1\n",
       "30782      1\n",
       "Name: count, Length: 21563, dtype: int64"
      ]
     },
     "execution_count": 27,
     "metadata": {},
     "output_type": "execute_result"
    }
   ],
   "source": [
    "\n"
   ]
  }
 ],
 "metadata": {
  "kernelspec": {
   "display_name": ".venv",
   "language": "python",
   "name": "python3"
  },
  "language_info": {
   "codemirror_mode": {
    "name": "ipython",
    "version": 3
   },
   "file_extension": ".py",
   "mimetype": "text/x-python",
   "name": "python",
   "nbconvert_exporter": "python",
   "pygments_lexer": "ipython3",
   "version": "3.10.11"
  }
 },
 "nbformat": 4,
 "nbformat_minor": 5
}
